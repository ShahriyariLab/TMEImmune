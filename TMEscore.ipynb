{
 "cells": [
  {
   "cell_type": "code",
   "execution_count": 89,
   "metadata": {},
   "outputs": [],
   "source": [
    "import numpy as np \n",
    "import pandas as pd\n",
    "import os, sys\n",
    "import gseapy as gp"
   ]
  },
  {
   "cell_type": "markdown",
   "metadata": {},
   "source": [
    "### ESTIMATE"
   ]
  },
  {
   "cell_type": "markdown",
   "metadata": {},
   "source": [
    "#### estimate score"
   ]
  },
  {
   "cell_type": "code",
   "execution_count": 3,
   "metadata": {},
   "outputs": [
    {
     "name": "stderr",
     "output_type": "stream",
     "text": [
      "/Users/qiluzhou/opt/anaconda3/lib/python3.9/site-packages/openpyxl/worksheet/_read_only.py:79: UserWarning: Unknown extension is not supported and will be removed\n",
      "  for idx, row in parser.parse():\n"
     ]
    }
   ],
   "source": [
    "sig = pd.read_excel(\"/Users/qiluzhou/Desktop/umass/research/score/data/stromal_immune_sig.xlsx\", header = 0, sheet_name = 0)\n",
    "# immune_sig_est = list(sig.loc[2,:])[2:]\n",
    "# stromal_sig_est = list(sig.loc[1,:])[2:]"
   ]
  },
  {
   "cell_type": "code",
   "execution_count": 17,
   "metadata": {},
   "outputs": [],
   "source": [
    "data = pd.read_table(\"/Users/qiluzhou/Desktop/umass/research/score/data/chol_tcga.txt\", sep = \"\\t\")\n",
    "# remove NA and duplicate names\n",
    "data = data.drop_duplicates(subset = ['Hugo_Symbol'])\n",
    "data = data.dropna(subset = \"Hugo_Symbol\", axis = 0)\n",
    "#data.to_csv(\"/Users/qiluzhou/Desktop/umass/research/score/data/chol_tcga_clean.txt\", sep = \"\\t\")"
   ]
  },
  {
   "cell_type": "code",
   "execution_count": 35,
   "metadata": {},
   "outputs": [],
   "source": [
    "# rank normalization\n",
    "row_names = data.Hugo_Symbol # gene names\n",
    "df = data.iloc[:, 2:]\n",
    "\n",
    "df_ranked = df.apply(pd.to_numeric).rank(axis = 0, method = \"average\")\n",
    "df_ranked.index = row_names\n",
    "df_normalized = 10000*df_ranked/df_ranked.shape[0]\n",
    "gene_set_names = list(sig.iloc[1:3, 0])\n",
    "score = np.empty((df_ranked.shape[1], 2))"
   ]
  },
  {
   "cell_type": "code",
   "execution_count": 36,
   "metadata": {},
   "outputs": [],
   "source": [
    "# ssgsea\n",
    "for i in range(0,2):\n",
    "    \n",
    "    gene_set = sig.iloc[i+1,2:]\n",
    "    common = list(set(gene_set) & set(row_names))\n",
    "\n",
    "    if len(common) == 0 : \n",
    "        continue\n",
    "\n",
    "    ES_vector = [0]*df_normalized.shape[1]\n",
    "\n",
    "    for sample in range(0, df_normalized.shape[1]):\n",
    "        ordered_genes = df_normalized.iloc[:,sample].sort_values(ascending = False)\n",
    "\n",
    "        hit_ind = ordered_genes.index.isin(gene_set)\n",
    "        no_hit_ind = 1- hit_ind\n",
    "\n",
    "        ordered_genes1 = ordered_genes.pow(1./4)\n",
    "        hit_exp = ordered_genes1[hit_ind]\n",
    "\n",
    "        no_hit_penalty = np.cumsum(no_hit_ind/sum(no_hit_ind))\n",
    "\n",
    "        hit_reward = np.cumsum((hit_ind*ordered_genes1)/sum(hit_exp))\n",
    "\n",
    "        ES_vector[sample] = sum(hit_reward - no_hit_penalty)\n",
    "    \n",
    "    score[:, i] = ES_vector"
   ]
  },
  {
   "cell_type": "code",
   "execution_count": 41,
   "metadata": {},
   "outputs": [],
   "source": [
    "# get estimate score\n",
    "score = pd.DataFrame(score)\n",
    "score.index = data.columns[2:]\n",
    "score.columns = [\"stromal\", \"immune\"]\n",
    "score['estimate'] = score['stromal'] + score['immune']\n",
    "# get tumor purity(Affymetrix-only)\n",
    "purity = np.cos(0.6049872018 + 0.0001467884*score['estimate'])"
   ]
  },
  {
   "cell_type": "code",
   "execution_count": 49,
   "metadata": {},
   "outputs": [
    {
     "data": {
      "text/html": [
       "<div>\n",
       "<style scoped>\n",
       "    .dataframe tbody tr th:only-of-type {\n",
       "        vertical-align: middle;\n",
       "    }\n",
       "\n",
       "    .dataframe tbody tr th {\n",
       "        vertical-align: top;\n",
       "    }\n",
       "\n",
       "    .dataframe thead th {\n",
       "        text-align: right;\n",
       "    }\n",
       "</style>\n",
       "<table border=\"1\" class=\"dataframe\">\n",
       "  <thead>\n",
       "    <tr style=\"text-align: right;\">\n",
       "      <th></th>\n",
       "      <th>stromal</th>\n",
       "      <th>immune</th>\n",
       "      <th>estimate</th>\n",
       "    </tr>\n",
       "  </thead>\n",
       "  <tbody>\n",
       "    <tr>\n",
       "      <th>TCGA-3X-AAV9-01</th>\n",
       "      <td>3480.865820</td>\n",
       "      <td>4655.945959</td>\n",
       "      <td>8136.811779</td>\n",
       "    </tr>\n",
       "    <tr>\n",
       "      <th>TCGA-3X-AAVA-01</th>\n",
       "      <td>1426.604986</td>\n",
       "      <td>2067.395840</td>\n",
       "      <td>3494.000827</td>\n",
       "    </tr>\n",
       "    <tr>\n",
       "      <th>TCGA-3X-AAVB-01</th>\n",
       "      <td>3261.592173</td>\n",
       "      <td>3056.319093</td>\n",
       "      <td>6317.911267</td>\n",
       "    </tr>\n",
       "    <tr>\n",
       "      <th>TCGA-3X-AAVC-01</th>\n",
       "      <td>937.550265</td>\n",
       "      <td>2459.131260</td>\n",
       "      <td>3396.681525</td>\n",
       "    </tr>\n",
       "    <tr>\n",
       "      <th>TCGA-3X-AAVE-01</th>\n",
       "      <td>1680.669364</td>\n",
       "      <td>4245.019743</td>\n",
       "      <td>5925.689107</td>\n",
       "    </tr>\n",
       "  </tbody>\n",
       "</table>\n",
       "</div>"
      ],
      "text/plain": [
       "                     stromal       immune     estimate\n",
       "TCGA-3X-AAV9-01  3480.865820  4655.945959  8136.811779\n",
       "TCGA-3X-AAVA-01  1426.604986  2067.395840  3494.000827\n",
       "TCGA-3X-AAVB-01  3261.592173  3056.319093  6317.911267\n",
       "TCGA-3X-AAVC-01   937.550265  2459.131260  3396.681525\n",
       "TCGA-3X-AAVE-01  1680.669364  4245.019743  5925.689107"
      ]
     },
     "execution_count": 49,
     "metadata": {},
     "output_type": "execute_result"
    }
   ],
   "source": [
    "score.head()"
   ]
  },
  {
   "cell_type": "markdown",
   "metadata": {},
   "source": [
    "#### filter common gene, plot tumor purity, output gct"
   ]
  },
  {
   "cell_type": "markdown",
   "metadata": {},
   "source": [
    "### ISTME"
   ]
  },
  {
   "cell_type": "markdown",
   "metadata": {},
   "source": [
    "#### get score"
   ]
  },
  {
   "cell_type": "code",
   "execution_count": 144,
   "metadata": {},
   "outputs": [],
   "source": [
    "immune_istme=['CD40LG','THEMIS','PYHIN1','TRAT1','FCRL1','SPIB','GPR174','SH2D1A','CCR4','ITK','FCRL3','C5orf20','FIGF','UBASH3A','MS4A1','CD300LG','SAMD3','ADH1B','GZMK','CHRDL1','ABI3BP','FCER2','TIFAB','P2RY12','CLEC10A','RSPO2','PCDH15','HLA-DOA','PLA2G2D','CLEC17A','CD3G','CCL19','PTPRC','C17orf87','GRIA1','CD8A','PRG4','P2RY13','SFTPC','HLA-DPB1','AADAC','EOMES','AOAH','CD1E','CCR2','CCL5','GFRA1','TFEC','CLDN18','FGL2','C4orf7','CD1B','GZMA','HLA-DPA1','SCARA5','PLEK','ZNF683','CD19','HLA-DRA','CD84','PIK3CG','NCKAP1L','CR1','WIF1','CLEC12A','KIAA0408','PIGR','CXCL13','CD74','TLR8','CHIT1','IL7R','HLA-DRB1','HLA-DQA1','COL6A6','LYZ','SFTPA2','CYBB','COL29A1','LCP1','IGJ','UBD','HLA-DQA2','CXCL9','PPYR1','IFNG','MRC1','FAM26F','B2M','CD1A','HLA-B','GBP5','ADAMDEC1','LAPTM5','C1QB','ITGB2','C1QA','SUCNR1','MARCO','HLA-C','VSIG4','F13A1','CXCL10','C1QC','HLA-A','CD163','FCGR3A','TMSL3']\n",
    "stromal_istme=['MDK','RPL8','S100P','FTH1','GPR87','UBC','CLDN3','FGL1','TMSB10','HSPB1','ACTB','ITPKA','KRT19','S100A2','EEF1A2','PABPC1','RPLP0','HSP90AB1','NMU','KRT8','KRT7','EPCAM','YWHAZ','MYH9','ACTG1','NPW','MMP13','TUBA1B','ERRFI1','DSP','KRT18','P4HB','ENO1','PKM2','RHOV','ALDOA','JUP','LDHA','HMGA1','HSPA1A','MIF','TUBB','HMGB3','CYP24A1','TPI1','FAM83A','RECQL4','FN1','VEGFA','GAPDH','TK1','TUBB3','UBE2C','MYBL2','COL3A1','COL1A1','COL1A2','COL11A1']"
   ]
  },
  {
   "cell_type": "code",
   "execution_count": 145,
   "metadata": {},
   "outputs": [],
   "source": [
    "istme_data = df.apply(pd.to_numeric)\n",
    "istme_data.index = list(row_names)\n",
    "df_ranked1 = istme_data.rank(axis = 0, method = \"average\")\n",
    "df_ranked1 = df_ranked1.apply(abs)"
   ]
  },
  {
   "cell_type": "code",
   "execution_count": 172,
   "metadata": {},
   "outputs": [],
   "source": [
    "def istme(geneset, df):\n",
    "\n",
    "    ES_vector = [0]*df.shape[1]\n",
    "\n",
    "    for sample in range(0, df.shape[1]):\n",
    "        ordered_genes = df.iloc[:,sample].sort_values(ascending = False)\n",
    "\n",
    "        hit_ind = ordered_genes.index.isin(geneset)\n",
    "        no_hit_ind = 1- hit_ind\n",
    "\n",
    "        ordered_genes1 = ordered_genes.pow(1./4)\n",
    "        hit_exp = ordered_genes1[hit_ind]\n",
    "\n",
    "        no_hit_penalty = np.cumsum(no_hit_ind/sum(no_hit_ind))\n",
    "        hit_reward = np.cumsum((hit_ind*ordered_genes1)/sum(hit_exp))\n",
    "\n",
    "        ES_vector[sample] = sum(hit_reward - no_hit_penalty)\n",
    "\n",
    "    ES_normalized = [i/(max(ES_vector)-min(ES_vector)) for i in ES_vector]\n",
    "    score = ES_normalized\n",
    "    return(score)"
   ]
  },
  {
   "cell_type": "code",
   "execution_count": 174,
   "metadata": {},
   "outputs": [],
   "source": [
    "istme_immune_score = istme(immune_istme, df_ranked1)\n",
    "istme_stromal_score = istme(stromal_istme, df_ranked1)\n",
    "istme = pd.DataFrame({\"immune\":istme_immune_score, \"stromal\": istme_stromal_score})\n",
    "istme.index = df_ranked1.columns"
   ]
  },
  {
   "cell_type": "code",
   "execution_count": 188,
   "metadata": {},
   "outputs": [
    {
     "data": {
      "text/html": [
       "<div>\n",
       "<style scoped>\n",
       "    .dataframe tbody tr th:only-of-type {\n",
       "        vertical-align: middle;\n",
       "    }\n",
       "\n",
       "    .dataframe tbody tr th {\n",
       "        vertical-align: top;\n",
       "    }\n",
       "\n",
       "    .dataframe thead th {\n",
       "        text-align: right;\n",
       "    }\n",
       "</style>\n",
       "<table border=\"1\" class=\"dataframe\">\n",
       "  <thead>\n",
       "    <tr style=\"text-align: right;\">\n",
       "      <th></th>\n",
       "      <th>immune</th>\n",
       "      <th>stromal</th>\n",
       "    </tr>\n",
       "  </thead>\n",
       "  <tbody>\n",
       "    <tr>\n",
       "      <th>TCGA-3X-AAV9-01</th>\n",
       "      <td>0.237001</td>\n",
       "      <td>2.292723</td>\n",
       "    </tr>\n",
       "    <tr>\n",
       "      <th>TCGA-3X-AAVA-01</th>\n",
       "      <td>0.029753</td>\n",
       "      <td>1.978521</td>\n",
       "    </tr>\n",
       "    <tr>\n",
       "      <th>TCGA-3X-AAVB-01</th>\n",
       "      <td>0.085616</td>\n",
       "      <td>2.146487</td>\n",
       "    </tr>\n",
       "    <tr>\n",
       "      <th>TCGA-3X-AAVC-01</th>\n",
       "      <td>0.023140</td>\n",
       "      <td>2.157706</td>\n",
       "    </tr>\n",
       "    <tr>\n",
       "      <th>TCGA-3X-AAVE-01</th>\n",
       "      <td>0.258784</td>\n",
       "      <td>2.077586</td>\n",
       "    </tr>\n",
       "  </tbody>\n",
       "</table>\n",
       "</div>"
      ],
      "text/plain": [
       "                   immune   stromal\n",
       "TCGA-3X-AAV9-01  0.237001  2.292723\n",
       "TCGA-3X-AAVA-01  0.029753  1.978521\n",
       "TCGA-3X-AAVB-01  0.085616  2.146487\n",
       "TCGA-3X-AAVC-01  0.023140  2.157706\n",
       "TCGA-3X-AAVE-01  0.258784  2.077586"
      ]
     },
     "execution_count": 188,
     "metadata": {},
     "output_type": "execute_result"
    }
   ],
   "source": [
    "istme.head()"
   ]
  },
  {
   "cell_type": "markdown",
   "metadata": {},
   "source": [
    "#### "
   ]
  }
 ],
 "metadata": {
  "kernelspec": {
   "display_name": "base",
   "language": "python",
   "name": "python3"
  },
  "language_info": {
   "codemirror_mode": {
    "name": "ipython",
    "version": 3
   },
   "file_extension": ".py",
   "mimetype": "text/x-python",
   "name": "python",
   "nbconvert_exporter": "python",
   "pygments_lexer": "ipython3",
   "version": "3.9.12"
  }
 },
 "nbformat": 4,
 "nbformat_minor": 2
}
